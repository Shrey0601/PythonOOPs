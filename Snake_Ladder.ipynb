{
 "cells": [
  {
   "cell_type": "code",
   "execution_count": 1,
   "metadata": {},
   "outputs": [
    {
     "name": "stdout",
     "output_type": "stream",
     "text": [
      "This is a 2 player game of snake and ladder\n"
     ]
    }
   ],
   "source": [
    "import random\n",
    "import time\n",
    "import sys\n",
    "\n",
    "print(\"This is a 2 player game of snake and ladder\")\n",
    "\n",
    "pos1 = 0\n",
    "pos2 = 0"
   ]
  },
  {
   "cell_type": "markdown",
   "metadata": {},
   "source": [
    "This tab is for importing the necessary libraries in python"
   ]
  },
  {
   "cell_type": "code",
   "execution_count": 6,
   "metadata": {},
   "outputs": [
    {
     "name": "stdout",
     "output_type": "stream",
     "text": [
      "Please provide the name of the 1st player\n",
      "Shrey\n",
      "Please provide the name of the 2nd player\n",
      "Het\n",
      "So, this match is between Shrey and Het\n"
     ]
    }
   ],
   "source": [
    "def player_names():\n",
    "    \"\"\" This function is to start the game by taking player inputs! \"\"\"\n",
    "    print(\"Please provide the name of the 1st player\")\n",
    "    name1 = str(input())\n",
    "    print(\"Please provide the name of the 2nd player\")\n",
    "    name2 = str(input())\n",
    "    print(\"So, this match is between {} and {}\".format(name1, name2))\n",
    "    return name1, name2\n",
    "\n",
    "\n",
    "player1_name, player2_name = player_names()"
   ]
  },
  {
   "cell_type": "code",
   "execution_count": 7,
   "metadata": {},
   "outputs": [],
   "source": [
    "def roll(pos):\n",
    "    \"\"\" This function is to roll the die to generate a  random number \"\"\"\n",
    "    time.sleep(1)\n",
    "    print(\"Now let's roll the die\")\n",
    "    die_num = random.randint(1,6)\n",
    "    print(\"It has come out to be {}\".format(die_num))\n",
    "    if pos + die_num <= 100:\n",
    "        pos += die_num\n",
    "    return pos"
   ]
  },
  {
   "cell_type": "code",
   "execution_count": 8,
   "metadata": {},
   "outputs": [],
   "source": [
    "def check(pos):\n",
    "    \"\"\" This function is to check for snakes and ladders \"\"\"\n",
    "    ladder = {1:38,4:14,9:31,21:42,28:84,36:44,51:67,71:91,80:100}\n",
    "    snake = {98: 78, 95: 75, 93: 73, 87: 24, 64: 60, 62: 19, 56: 53, 49: 11, 48: 26, 16: 6}\n",
    "    for key in ladder:\n",
    "        if key == pos:\n",
    "            print(\"Woah! You has found the ladder\")\n",
    "            pos = ladder[pos]\n",
    "            return pos\n",
    "    for key in snake:\n",
    "        if key == pos:\n",
    "            print(\"Sorry, You are bitten by a snake\")\n",
    "            pos = snake[pos]\n",
    "            return pos\n",
    "    return pos"
   ]
  },
  {
   "cell_type": "code",
   "execution_count": 9,
   "metadata": {},
   "outputs": [
    {
     "name": "stdout",
     "output_type": "stream",
     "text": [
      "Hope you enjoyed the game Het and Shrey!\n"
     ]
    }
   ],
   "source": [
    "# The main body of the Game\n",
    "while pos1 < 100 and pos2 < 100:\n",
    "\n",
    "    print(\"Now its your turn {}\".format(player1_name))\n",
    "    pos1 = roll(pos1)\n",
    "    pos1 = check(pos1)\n",
    "    print(\"So, after this turn the positions are:\")\n",
    "    print(\"{} - {}\".format(player1_name, pos1))\n",
    "    print(\"{} - {}\".format(player2_name, pos2))\n",
    "\n",
    "    if pos1 == 100:\n",
    "        print(\"The Winner of the game is {}\".format(player1_name))\n",
    "        break\n",
    "\n",
    "    print(\"Now its your turn {}\".format(player2_name))\n",
    "    pos2 = roll(pos2)\n",
    "    pos2 = check(pos2)\n",
    "    print(\"So, after this turn the positions are:\")\n",
    "    print(\"{} - {}\".format(player1_name, pos1))\n",
    "    print(\"{} - {}\".format(player2_name, pos2))\n",
    "\n",
    "    if pos2 == 100:\n",
    "        print(\"The Winner of the game is {}\".format(player2_name))\n",
    "        break\n",
    "\n",
    "\n",
    "print(\"Hope you enjoyed the game {} and {}!\".format(player2_name, player1_name))"
   ]
  },
  {
   "cell_type": "code",
   "execution_count": null,
   "metadata": {},
   "outputs": [],
   "source": []
  }
 ],
 "metadata": {
  "kernelspec": {
   "display_name": "Python 3",
   "language": "python",
   "name": "python3"
  },
  "language_info": {
   "codemirror_mode": {
    "name": "ipython",
    "version": 3
   },
   "file_extension": ".py",
   "mimetype": "text/x-python",
   "name": "python",
   "nbconvert_exporter": "python",
   "pygments_lexer": "ipython3",
   "version": "3.7.3"
  }
 },
 "nbformat": 4,
 "nbformat_minor": 2
}
